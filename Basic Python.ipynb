{
  "cells": [
    {
      "metadata": {
        "ExecuteTime": {
          "end_time": "2022-12-01T06:33:54.283175Z",
          "start_time": "2022-12-01T06:33:53.486660Z"
        },
        "trusted": false
      },
      "id": "f1a26f39",
      "cell_type": "code",
      "source": "import pandas",
      "execution_count": 1,
      "outputs": []
    },
    {
      "metadata": {
        "ExecuteTime": {
          "end_time": "2022-12-01T06:45:34.710437Z",
          "start_time": "2022-12-01T06:45:34.643012Z"
        }
      },
      "id": "13f2d40f",
      "cell_type": "markdown",
      "source": "# variables \n\na = 500\ntype(a)"
    },
    {
      "metadata": {
        "ExecuteTime": {
          "end_time": "2022-12-01T06:46:40.742831Z",
          "start_time": "2022-12-01T06:46:40.733805Z"
        },
        "trusted": false
      },
      "id": "4e5e67a1",
      "cell_type": "code",
      "source": "a",
      "execution_count": 2,
      "outputs": [
        {
          "data": {
            "text/plain": "500"
          },
          "execution_count": 2,
          "metadata": {},
          "output_type": "execute_result"
        }
      ]
    },
    {
      "metadata": {
        "ExecuteTime": {
          "end_time": "2022-12-01T06:46:56.204571Z",
          "start_time": "2022-12-01T06:46:56.192538Z"
        },
        "trusted": false
      },
      "id": "0ab01598",
      "cell_type": "code",
      "source": "print(a)\n",
      "execution_count": 3,
      "outputs": [
        {
          "name": "stdout",
          "output_type": "stream",
          "text": "500\n"
        }
      ]
    },
    {
      "metadata": {
        "ExecuteTime": {
          "end_time": "2022-12-01T06:47:56.108182Z",
          "start_time": "2022-12-01T06:47:56.100161Z"
        }
      },
      "id": "d195faff",
      "cell_type": "markdown",
      "source": "# Arithmetric operation (+,-,*,/,%)\na+10\n"
    },
    {
      "metadata": {
        "ExecuteTime": {
          "end_time": "2022-12-01T06:48:03.870551Z",
          "start_time": "2022-12-01T06:48:03.861520Z"
        },
        "trusted": false
      },
      "id": "bf0f699d",
      "cell_type": "code",
      "source": "a-20",
      "execution_count": 5,
      "outputs": [
        {
          "data": {
            "text/plain": "480"
          },
          "execution_count": 5,
          "metadata": {},
          "output_type": "execute_result"
        }
      ]
    },
    {
      "metadata": {
        "ExecuteTime": {
          "end_time": "2022-12-01T06:51:17.027242Z",
          "start_time": "2022-12-01T06:51:17.018217Z"
        },
        "trusted": false
      },
      "id": "457318ef",
      "cell_type": "code",
      "source": "a*10",
      "execution_count": 6,
      "outputs": [
        {
          "data": {
            "text/plain": "5000"
          },
          "execution_count": 6,
          "metadata": {},
          "output_type": "execute_result"
        }
      ]
    },
    {
      "metadata": {
        "ExecuteTime": {
          "end_time": "2022-12-01T06:51:26.988553Z",
          "start_time": "2022-12-01T06:51:26.979529Z"
        },
        "trusted": false
      },
      "id": "8b598f9c",
      "cell_type": "code",
      "source": "a/5",
      "execution_count": 7,
      "outputs": [
        {
          "data": {
            "text/plain": "100.0"
          },
          "execution_count": 7,
          "metadata": {},
          "output_type": "execute_result"
        }
      ]
    },
    {
      "metadata": {
        "ExecuteTime": {
          "end_time": "2022-12-01T06:51:36.753108Z",
          "start_time": "2022-12-01T06:51:36.745052Z"
        },
        "trusted": false
      },
      "id": "d700faf1",
      "cell_type": "code",
      "source": "a%2",
      "execution_count": 8,
      "outputs": [
        {
          "data": {
            "text/plain": "0"
          },
          "execution_count": 8,
          "metadata": {},
          "output_type": "execute_result"
        }
      ]
    },
    {
      "metadata": {
        "ExecuteTime": {
          "end_time": "2022-12-01T06:52:53.217381Z",
          "start_time": "2022-12-01T06:52:53.208357Z"
        },
        "trusted": false
      },
      "id": "347a9b2c",
      "cell_type": "code",
      "source": "a =10\nb =20\na==b",
      "execution_count": 10,
      "outputs": [
        {
          "data": {
            "text/plain": "False"
          },
          "execution_count": 10,
          "metadata": {},
          "output_type": "execute_result"
        }
      ]
    },
    {
      "metadata": {},
      "id": "83abc0e6",
      "cell_type": "markdown",
      "source": "# Data type of python\n1] integer   (whole no)\n2]Float      (Decimal no)\n3)String     (Character)\nBoolean      (True/false)"
    },
    {
      "metadata": {
        "ExecuteTime": {
          "end_time": "2022-12-01T07:04:06.035541Z",
          "start_time": "2022-12-01T07:04:06.026516Z"
        },
        "trusted": false
      },
      "id": "cdadb175",
      "cell_type": "code",
      "source": "#Integer\na =500\ntype(a)",
      "execution_count": 11,
      "outputs": [
        {
          "data": {
            "text/plain": "int"
          },
          "execution_count": 11,
          "metadata": {},
          "output_type": "execute_result"
        }
      ]
    },
    {
      "metadata": {
        "ExecuteTime": {
          "end_time": "2022-12-01T07:06:51.616341Z",
          "start_time": "2022-12-01T07:06:51.610329Z"
        },
        "trusted": false
      },
      "id": "9a42572d",
      "cell_type": "code",
      "source": "a\nprint(type(a))",
      "execution_count": 14,
      "outputs": [
        {
          "name": "stdout",
          "output_type": "stream",
          "text": "<class 'int'>\n"
        }
      ]
    },
    {
      "metadata": {
        "ExecuteTime": {
          "end_time": "2022-12-01T07:08:07.916589Z",
          "start_time": "2022-12-01T07:08:07.908568Z"
        }
      },
      "id": "a6eb9492",
      "cell_type": "markdown",
      "source": "# float"
    },
    {
      "metadata": {
        "ExecuteTime": {
          "end_time": "2022-12-01T08:17:26.173631Z",
          "start_time": "2022-12-01T08:17:26.167612Z"
        },
        "trusted": false
      },
      "id": "80636371",
      "cell_type": "code",
      "source": "f=10.5\nprint(f)",
      "execution_count": 3,
      "outputs": [
        {
          "name": "stdout",
          "output_type": "stream",
          "text": "10.5\n"
        }
      ]
    },
    {
      "metadata": {
        "ExecuteTime": {
          "end_time": "2022-12-01T08:17:44.547681Z",
          "start_time": "2022-12-01T08:17:44.527593Z"
        },
        "trusted": false
      },
      "id": "cbe4a6bf",
      "cell_type": "code",
      "source": "type(f)",
      "execution_count": 4,
      "outputs": [
        {
          "data": {
            "text/plain": "float"
          },
          "execution_count": 4,
          "metadata": {},
          "output_type": "execute_result"
        }
      ]
    },
    {
      "metadata": {},
      "id": "b9794dfc",
      "cell_type": "markdown",
      "source": "# String"
    },
    {
      "metadata": {
        "ExecuteTime": {
          "end_time": "2022-12-01T08:20:08.003543Z",
          "start_time": "2022-12-01T08:20:07.997521Z"
        },
        "trusted": false
      },
      "id": "470f9946",
      "cell_type": "code",
      "source": "s = 'This is Python class'\ns1 = \"This is Python class\"\ns2 =\"'This is python class'\"",
      "execution_count": 5,
      "outputs": []
    },
    {
      "metadata": {
        "ExecuteTime": {
          "end_time": "2022-12-01T08:21:45.694176Z",
          "start_time": "2022-12-01T08:21:45.685151Z"
        },
        "trusted": false
      },
      "id": "388631cb",
      "cell_type": "code",
      "source": "s1==s2",
      "execution_count": 7,
      "outputs": [
        {
          "data": {
            "text/plain": "True"
          },
          "execution_count": 7,
          "metadata": {},
          "output_type": "execute_result"
        }
      ]
    },
    {
      "metadata": {},
      "id": "381d56b2",
      "cell_type": "markdown",
      "source": "# Typecasting"
    },
    {
      "metadata": {
        "ExecuteTime": {
          "end_time": "2022-12-01T08:40:05.046045Z",
          "start_time": "2022-12-01T08:40:05.036522Z"
        },
        "trusted": false
      },
      "id": "6f77a895",
      "cell_type": "code",
      "source": "a =10.8\ntype(a)",
      "execution_count": 8,
      "outputs": [
        {
          "data": {
            "text/plain": "float"
          },
          "execution_count": 8,
          "metadata": {},
          "output_type": "execute_result"
        }
      ]
    },
    {
      "metadata": {
        "ExecuteTime": {
          "end_time": "2022-12-01T08:40:41.472545Z",
          "start_time": "2022-12-01T08:40:41.464522Z"
        },
        "trusted": false
      },
      "id": "3bd92946",
      "cell_type": "code",
      "source": "int(a)",
      "execution_count": 10,
      "outputs": [
        {
          "data": {
            "text/plain": "10"
          },
          "execution_count": 10,
          "metadata": {},
          "output_type": "execute_result"
        }
      ]
    },
    {
      "metadata": {
        "ExecuteTime": {
          "end_time": "2022-12-01T08:45:40.778360Z",
          "start_time": "2022-12-01T08:45:40.773348Z"
        },
        "trusted": false
      },
      "id": "f3fbbc4d",
      "cell_type": "code",
      "source": "b = 500\n",
      "execution_count": 11,
      "outputs": []
    },
    {
      "metadata": {
        "ExecuteTime": {
          "end_time": "2022-12-01T08:45:49.784549Z",
          "start_time": "2022-12-01T08:45:49.775505Z"
        },
        "trusted": false
      },
      "id": "d6420eeb",
      "cell_type": "code",
      "source": "bool(b)",
      "execution_count": 12,
      "outputs": [
        {
          "data": {
            "text/plain": "True"
          },
          "execution_count": 12,
          "metadata": {},
          "output_type": "execute_result"
        }
      ]
    },
    {
      "metadata": {
        "ExecuteTime": {
          "end_time": "2022-12-01T08:46:00.029595Z",
          "start_time": "2022-12-01T08:46:00.025079Z"
        },
        "trusted": false
      },
      "id": "4707acd3",
      "cell_type": "code",
      "source": "z = 0",
      "execution_count": 13,
      "outputs": []
    },
    {
      "metadata": {
        "ExecuteTime": {
          "end_time": "2022-12-01T08:46:16.125698Z",
          "start_time": "2022-12-01T08:46:16.117676Z"
        },
        "trusted": false
      },
      "id": "b70575df",
      "cell_type": "code",
      "source": "bool(z)",
      "execution_count": 14,
      "outputs": [
        {
          "data": {
            "text/plain": "False"
          },
          "execution_count": 14,
          "metadata": {},
          "output_type": "execute_result"
        }
      ]
    },
    {
      "metadata": {
        "ExecuteTime": {
          "end_time": "2022-12-01T08:47:39.424383Z",
          "start_time": "2022-12-01T08:47:39.419369Z"
        },
        "trusted": false
      },
      "id": "799e36bc",
      "cell_type": "code",
      "source": "k =10",
      "execution_count": 15,
      "outputs": []
    },
    {
      "metadata": {
        "ExecuteTime": {
          "end_time": "2022-12-01T08:47:46.222715Z",
          "start_time": "2022-12-01T08:47:46.213684Z"
        },
        "trusted": false
      },
      "id": "af187bc3",
      "cell_type": "code",
      "source": "float(k)",
      "execution_count": 16,
      "outputs": [
        {
          "data": {
            "text/plain": "10.0"
          },
          "execution_count": 16,
          "metadata": {},
          "output_type": "execute_result"
        }
      ]
    },
    {
      "metadata": {},
      "id": "1d1b24ff",
      "cell_type": "markdown",
      "source": "# String Methods"
    },
    {
      "metadata": {
        "ExecuteTime": {
          "end_time": "2022-12-02T06:01:33.218820Z",
          "start_time": "2022-12-02T06:01:33.209792Z"
        },
        "trusted": false
      },
      "id": "6bc40a3f",
      "cell_type": "code",
      "source": "# Crete a String\ns='we are learning python'\ns.capitalize()",
      "execution_count": 3,
      "outputs": [
        {
          "data": {
            "text/plain": "'We are learning python'"
          },
          "execution_count": 3,
          "metadata": {},
          "output_type": "execute_result"
        }
      ]
    },
    {
      "metadata": {
        "ExecuteTime": {
          "end_time": "2022-12-02T06:05:02.799093Z",
          "start_time": "2022-12-02T06:05:02.791066Z"
        },
        "trusted": false
      },
      "id": "9159d0a9",
      "cell_type": "code",
      "source": "s.capitalize()",
      "execution_count": 5,
      "outputs": [
        {
          "data": {
            "text/plain": "'We are learning python'"
          },
          "execution_count": 5,
          "metadata": {},
          "output_type": "execute_result"
        }
      ]
    },
    {
      "metadata": {
        "ExecuteTime": {
          "end_time": "2022-12-02T06:05:17.440270Z",
          "start_time": "2022-12-02T06:05:17.433252Z"
        },
        "trusted": false
      },
      "id": "5dd2cdfd",
      "cell_type": "code",
      "source": "s.count('I')",
      "execution_count": 6,
      "outputs": [
        {
          "data": {
            "text/plain": "0"
          },
          "execution_count": 6,
          "metadata": {},
          "output_type": "execute_result"
        }
      ]
    },
    {
      "metadata": {
        "ExecuteTime": {
          "end_time": "2022-12-02T06:07:08.263219Z",
          "start_time": "2022-12-02T06:07:08.254662Z"
        },
        "trusted": false
      },
      "id": "c7816913",
      "cell_type": "code",
      "source": "s.count('e')",
      "execution_count": 8,
      "outputs": [
        {
          "data": {
            "text/plain": "3"
          },
          "execution_count": 8,
          "metadata": {},
          "output_type": "execute_result"
        }
      ]
    },
    {
      "metadata": {
        "ExecuteTime": {
          "end_time": "2022-12-02T06:09:47.844979Z",
          "start_time": "2022-12-02T06:09:47.836960Z"
        },
        "trusted": false
      },
      "id": "9ad0d624",
      "cell_type": "code",
      "source": "s.endswith('N')",
      "execution_count": 9,
      "outputs": [
        {
          "data": {
            "text/plain": "False"
          },
          "execution_count": 9,
          "metadata": {},
          "output_type": "execute_result"
        }
      ]
    },
    {
      "metadata": {
        "ExecuteTime": {
          "end_time": "2022-12-02T06:10:01.320146Z",
          "start_time": "2022-12-02T06:10:01.311123Z"
        },
        "trusted": false
      },
      "id": "157878ed",
      "cell_type": "code",
      "source": "s.endswith('n')",
      "execution_count": 10,
      "outputs": [
        {
          "data": {
            "text/plain": "True"
          },
          "execution_count": 10,
          "metadata": {},
          "output_type": "execute_result"
        }
      ]
    },
    {
      "metadata": {
        "ExecuteTime": {
          "end_time": "2022-12-02T06:15:09.318197Z",
          "start_time": "2022-12-02T06:15:09.311182Z"
        },
        "trusted": false
      },
      "id": "67f42fb1",
      "cell_type": "code",
      "source": "s.find('are')",
      "execution_count": 11,
      "outputs": [
        {
          "data": {
            "text/plain": "3"
          },
          "execution_count": 11,
          "metadata": {},
          "output_type": "execute_result"
        }
      ]
    },
    {
      "metadata": {
        "ExecuteTime": {
          "end_time": "2022-12-02T06:15:30.002530Z",
          "start_time": "2022-12-02T06:15:29.994508Z"
        },
        "trusted": false
      },
      "id": "adb31770",
      "cell_type": "code",
      "source": "s.index('p')",
      "execution_count": 12,
      "outputs": [
        {
          "data": {
            "text/plain": "16"
          },
          "execution_count": 12,
          "metadata": {},
          "output_type": "execute_result"
        }
      ]
    },
    {
      "metadata": {
        "ExecuteTime": {
          "end_time": "2022-12-02T06:17:14.402321Z",
          "start_time": "2022-12-02T06:17:14.398303Z"
        },
        "trusted": false
      },
      "id": "1a81d505",
      "cell_type": "code",
      "source": "s='we are learning python'",
      "execution_count": 17,
      "outputs": []
    },
    {
      "metadata": {
        "ExecuteTime": {
          "end_time": "2022-12-02T06:17:17.578313Z",
          "start_time": "2022-12-02T06:17:17.571295Z"
        },
        "trusted": false
      },
      "id": "695a64fa",
      "cell_type": "code",
      "source": "s.islower()",
      "execution_count": 18,
      "outputs": [
        {
          "data": {
            "text/plain": "True"
          },
          "execution_count": 18,
          "metadata": {},
          "output_type": "execute_result"
        }
      ]
    },
    {
      "metadata": {
        "ExecuteTime": {
          "end_time": "2022-12-02T06:22:17.999500Z",
          "start_time": "2022-12-02T06:22:17.989976Z"
        },
        "trusted": false
      },
      "id": "0cc0bee1",
      "cell_type": "code",
      "source": "'-'.join(s)",
      "execution_count": 19,
      "outputs": [
        {
          "data": {
            "text/plain": "'w-e- -a-r-e- -l-e-a-r-n-i-n-g- -p-y-t-h-o-n'"
          },
          "execution_count": 19,
          "metadata": {},
          "output_type": "execute_result"
        }
      ]
    },
    {
      "metadata": {
        "ExecuteTime": {
          "end_time": "2022-12-02T06:22:36.562144Z",
          "start_time": "2022-12-02T06:22:36.554119Z"
        },
        "trusted": false
      },
      "id": "8e2dc99f",
      "cell_type": "code",
      "source": "'*'.join(s)",
      "execution_count": 20,
      "outputs": [
        {
          "data": {
            "text/plain": "'w*e* *a*r*e* *l*e*a*r*n*i*n*g* *p*y*t*h*o*n'"
          },
          "execution_count": 20,
          "metadata": {},
          "output_type": "execute_result"
        }
      ]
    },
    {
      "metadata": {
        "ExecuteTime": {
          "end_time": "2022-12-02T06:22:56.783615Z",
          "start_time": "2022-12-02T06:22:56.774590Z"
        },
        "trusted": false
      },
      "id": "42498d65",
      "cell_type": "code",
      "source": "'#'.join(s)",
      "execution_count": 21,
      "outputs": [
        {
          "data": {
            "text/plain": "'w#e# #a#r#e# #l#e#a#r#n#i#n#g# #p#y#t#h#o#n'"
          },
          "execution_count": 21,
          "metadata": {},
          "output_type": "execute_result"
        }
      ]
    },
    {
      "metadata": {
        "ExecuteTime": {
          "end_time": "2022-12-02T06:23:52.155586Z",
          "start_time": "2022-12-02T06:23:52.147556Z"
        },
        "trusted": false
      },
      "id": "bede1d92",
      "cell_type": "code",
      "source": "s",
      "execution_count": 22,
      "outputs": [
        {
          "data": {
            "text/plain": "'we are learning python'"
          },
          "execution_count": 22,
          "metadata": {},
          "output_type": "execute_result"
        }
      ]
    },
    {
      "metadata": {
        "ExecuteTime": {
          "end_time": "2022-12-02T06:26:04.185263Z",
          "start_time": "2022-12-02T06:26:04.179247Z"
        },
        "trusted": false
      },
      "id": "de3c6cf1",
      "cell_type": "code",
      "source": "s=s.replace(' ','-')",
      "execution_count": 23,
      "outputs": []
    },
    {
      "metadata": {
        "ExecuteTime": {
          "end_time": "2022-12-02T06:26:14.355768Z",
          "start_time": "2022-12-02T06:26:14.347746Z"
        },
        "trusted": false
      },
      "id": "ddfa0159",
      "cell_type": "code",
      "source": "s",
      "execution_count": 24,
      "outputs": [
        {
          "data": {
            "text/plain": "'we-are-learning-python'"
          },
          "execution_count": 24,
          "metadata": {},
          "output_type": "execute_result"
        }
      ]
    },
    {
      "metadata": {
        "ExecuteTime": {
          "end_time": "2022-12-02T06:27:28.987708Z",
          "start_time": "2022-12-02T06:27:28.980692Z"
        },
        "trusted": false
      },
      "id": "e37a58d1",
      "cell_type": "code",
      "source": "s",
      "execution_count": 29,
      "outputs": [
        {
          "data": {
            "text/plain": "'we-are-learning-python'"
          },
          "execution_count": 29,
          "metadata": {},
          "output_type": "execute_result"
        }
      ]
    },
    {
      "metadata": {
        "ExecuteTime": {
          "end_time": "2022-12-02T06:31:04.825416Z",
          "start_time": "2022-12-02T06:31:04.820405Z"
        },
        "trusted": false
      },
      "id": "0b91ef52",
      "cell_type": "code",
      "source": "s=s.replace('-','#')",
      "execution_count": 37,
      "outputs": []
    },
    {
      "metadata": {
        "ExecuteTime": {
          "end_time": "2022-12-02T06:31:09.943439Z",
          "start_time": "2022-12-02T06:31:09.935911Z"
        },
        "trusted": false
      },
      "id": "6e6c0bff",
      "cell_type": "code",
      "source": "s",
      "execution_count": 38,
      "outputs": [
        {
          "data": {
            "text/plain": "'we#are#learning#python'"
          },
          "execution_count": 38,
          "metadata": {},
          "output_type": "execute_result"
        }
      ]
    },
    {
      "metadata": {
        "ExecuteTime": {
          "end_time": "2022-12-02T06:38:18.600467Z",
          "start_time": "2022-12-02T06:38:18.590440Z"
        },
        "trusted": false
      },
      "id": "b36b52c9",
      "cell_type": "code",
      "source": "s.split('#')",
      "execution_count": 40,
      "outputs": [
        {
          "data": {
            "text/plain": "['we', 'are', 'learning', 'python']"
          },
          "execution_count": 40,
          "metadata": {},
          "output_type": "execute_result"
        }
      ]
    },
    {
      "metadata": {
        "ExecuteTime": {
          "end_time": "2022-12-02T06:48:10.162218Z",
          "start_time": "2022-12-02T06:48:10.156704Z"
        },
        "trusted": false
      },
      "id": "b614a498",
      "cell_type": "code",
      "source": "q='abc@gmail.com'",
      "execution_count": 41,
      "outputs": []
    },
    {
      "metadata": {
        "ExecuteTime": {
          "end_time": "2022-12-02T06:48:23.668838Z",
          "start_time": "2022-12-02T06:48:23.660815Z"
        },
        "trusted": false
      },
      "id": "423dfbde",
      "cell_type": "code",
      "source": "q.split('@')",
      "execution_count": 42,
      "outputs": [
        {
          "data": {
            "text/plain": "['abc', 'gmail.com']"
          },
          "execution_count": 42,
          "metadata": {},
          "output_type": "execute_result"
        }
      ]
    },
    {
      "metadata": {
        "ExecuteTime": {
          "end_time": "2022-12-02T06:49:11.338047Z",
          "start_time": "2022-12-02T06:49:11.334040Z"
        },
        "trusted": false
      },
      "id": "50ad0d6a",
      "cell_type": "code",
      "source": "s='We are lerning python'",
      "execution_count": 44,
      "outputs": []
    },
    {
      "metadata": {
        "ExecuteTime": {
          "end_time": "2022-12-02T06:49:15.794356Z",
          "start_time": "2022-12-02T06:49:15.787337Z"
        },
        "trusted": false
      },
      "id": "05143985",
      "cell_type": "code",
      "source": "s",
      "execution_count": 45,
      "outputs": [
        {
          "data": {
            "text/plain": "'We are lerning python'"
          },
          "execution_count": 45,
          "metadata": {},
          "output_type": "execute_result"
        }
      ]
    },
    {
      "metadata": {
        "ExecuteTime": {
          "end_time": "2022-12-02T06:53:41.861695Z",
          "start_time": "2022-12-02T06:53:41.853672Z"
        },
        "trusted": false
      },
      "id": "3ae5f8d1",
      "cell_type": "code",
      "source": "s.swapcase()",
      "execution_count": 46,
      "outputs": [
        {
          "data": {
            "text/plain": "'wE ARE LERNING PYTHON'"
          },
          "execution_count": 46,
          "metadata": {},
          "output_type": "execute_result"
        }
      ]
    },
    {
      "metadata": {
        "ExecuteTime": {
          "end_time": "2022-12-02T06:53:50.800536Z",
          "start_time": "2022-12-02T06:53:50.792512Z"
        },
        "trusted": false
      },
      "id": "d2eff048",
      "cell_type": "code",
      "source": "s.upper()",
      "execution_count": 47,
      "outputs": [
        {
          "data": {
            "text/plain": "'WE ARE LERNING PYTHON'"
          },
          "execution_count": 47,
          "metadata": {},
          "output_type": "execute_result"
        }
      ]
    },
    {
      "metadata": {
        "ExecuteTime": {
          "end_time": "2022-12-02T06:53:58.273062Z",
          "start_time": "2022-12-02T06:53:58.265039Z"
        },
        "trusted": false
      },
      "id": "f5130086",
      "cell_type": "code",
      "source": "s.lower()",
      "execution_count": 48,
      "outputs": [
        {
          "data": {
            "text/plain": "'we are lerning python'"
          },
          "execution_count": 48,
          "metadata": {},
          "output_type": "execute_result"
        }
      ]
    },
    {
      "metadata": {
        "ExecuteTime": {
          "end_time": "2022-12-02T06:54:16.089217Z",
          "start_time": "2022-12-02T06:54:16.081191Z"
        },
        "trusted": false
      },
      "id": "6212858a",
      "cell_type": "code",
      "source": "s.title()",
      "execution_count": 49,
      "outputs": [
        {
          "data": {
            "text/plain": "'We Are Lerning Python'"
          },
          "execution_count": 49,
          "metadata": {},
          "output_type": "execute_result"
        }
      ]
    },
    {
      "metadata": {
        "trusted": false
      },
      "cell_type": "markdown",
      "source": "# Data Structures\n1)List\n2) Truple\n3)Dictionary\n4)Sets"
    },
    {
      "metadata": {
        "ExecuteTime": {
          "start_time": "2022-12-02T08:42:27.844120Z",
          "end_time": "2022-12-02T08:42:27.849636Z"
        },
        "trusted": true
      },
      "cell_type": "code",
      "source": "#Creating Lists\nlst=[]\n",
      "execution_count": 60,
      "outputs": []
    },
    {
      "metadata": {
        "ExecuteTime": {
          "start_time": "2022-12-02T08:42:52.173498Z",
          "end_time": "2022-12-02T08:42:52.182527Z"
        },
        "trusted": true
      },
      "cell_type": "code",
      "source": "type(lst)",
      "execution_count": 61,
      "outputs": [
        {
          "output_type": "execute_result",
          "execution_count": 61,
          "data": {
            "text/plain": "list"
          },
          "metadata": {}
        }
      ]
    },
    {
      "metadata": {
        "ExecuteTime": {
          "start_time": "2022-12-02T08:43:31.321813Z",
          "end_time": "2022-12-02T08:43:31.326843Z"
        },
        "trusted": true
      },
      "cell_type": "code",
      "source": "list=[type(lst)]",
      "execution_count": 62,
      "outputs": []
    },
    {
      "metadata": {
        "ExecuteTime": {
          "start_time": "2022-12-02T08:44:27.890228Z",
          "end_time": "2022-12-02T08:44:27.896245Z"
        },
        "trusted": true
      },
      "cell_type": "code",
      "source": "lst=[10,10.5,True,'Hello']",
      "execution_count": 64,
      "outputs": []
    },
    {
      "metadata": {
        "ExecuteTime": {
          "start_time": "2022-12-02T08:44:32.122985Z",
          "end_time": "2022-12-02T08:44:32.131020Z"
        },
        "trusted": true
      },
      "cell_type": "code",
      "source": "lst",
      "execution_count": 65,
      "outputs": [
        {
          "output_type": "execute_result",
          "execution_count": 65,
          "data": {
            "text/plain": "[10, 10.5, True, 'Hello']"
          },
          "metadata": {}
        }
      ]
    },
    {
      "metadata": {},
      "cell_type": "markdown",
      "source": "# Accessing elements From list"
    },
    {
      "metadata": {
        "ExecuteTime": {
          "start_time": "2022-12-02T08:46:18.831536Z",
          "end_time": "2022-12-02T08:46:18.839559Z"
        },
        "trusted": true
      },
      "cell_type": "code",
      "source": "lst[3]",
      "execution_count": 66,
      "outputs": [
        {
          "output_type": "execute_result",
          "execution_count": 66,
          "data": {
            "text/plain": "'Hello'"
          },
          "metadata": {}
        }
      ]
    },
    {
      "metadata": {
        "ExecuteTime": {
          "start_time": "2022-12-02T08:46:30.585690Z",
          "end_time": "2022-12-02T08:46:30.595718Z"
        },
        "trusted": true
      },
      "cell_type": "code",
      "source": "lst[1:3]",
      "execution_count": 67,
      "outputs": [
        {
          "output_type": "execute_result",
          "execution_count": 67,
          "data": {
            "text/plain": "[10.5, True]"
          },
          "metadata": {}
        }
      ]
    },
    {
      "metadata": {
        "ExecuteTime": {
          "start_time": "2022-12-02T08:46:41.416785Z",
          "end_time": "2022-12-02T08:46:41.424808Z"
        },
        "trusted": true
      },
      "cell_type": "code",
      "source": "lst[-1]",
      "execution_count": 68,
      "outputs": [
        {
          "output_type": "execute_result",
          "execution_count": 68,
          "data": {
            "text/plain": "'Hello'"
          },
          "metadata": {}
        }
      ]
    },
    {
      "metadata": {
        "ExecuteTime": {
          "start_time": "2022-12-02T08:46:51.045698Z",
          "end_time": "2022-12-02T08:46:51.053728Z"
        },
        "trusted": true
      },
      "cell_type": "code",
      "source": "lst[-2]",
      "execution_count": 69,
      "outputs": [
        {
          "output_type": "execute_result",
          "execution_count": 69,
          "data": {
            "text/plain": "True"
          },
          "metadata": {}
        }
      ]
    },
    {
      "metadata": {},
      "cell_type": "markdown",
      "source": "# Appened"
    },
    {
      "metadata": {
        "ExecuteTime": {
          "start_time": "2022-12-02T08:47:52.446025Z",
          "end_time": "2022-12-02T08:47:52.454070Z"
        },
        "trusted": true
      },
      "cell_type": "code",
      "source": "lst",
      "execution_count": 70,
      "outputs": [
        {
          "output_type": "execute_result",
          "execution_count": 70,
          "data": {
            "text/plain": "[10, 10.5, True, 'Hello']"
          },
          "metadata": {}
        }
      ]
    },
    {
      "metadata": {
        "ExecuteTime": {
          "start_time": "2022-12-02T08:48:05.464484Z",
          "end_time": "2022-12-02T08:48:05.469500Z"
        },
        "trusted": true
      },
      "cell_type": "code",
      "source": "lst.append(1000)",
      "execution_count": 71,
      "outputs": []
    },
    {
      "metadata": {
        "ExecuteTime": {
          "start_time": "2022-12-02T08:48:09.505878Z",
          "end_time": "2022-12-02T08:48:09.514402Z"
        },
        "trusted": true
      },
      "cell_type": "code",
      "source": "lst",
      "execution_count": 72,
      "outputs": [
        {
          "output_type": "execute_result",
          "execution_count": 72,
          "data": {
            "text/plain": "[10, 10.5, True, 'Hello', 1000]"
          },
          "metadata": {}
        }
      ]
    },
    {
      "metadata": {
        "ExecuteTime": {
          "start_time": "2022-12-02T08:49:25.980650Z",
          "end_time": "2022-12-02T08:49:25.988670Z"
        },
        "trusted": true
      },
      "cell_type": "code",
      "source": "lst.count(1000)",
      "execution_count": 73,
      "outputs": [
        {
          "output_type": "execute_result",
          "execution_count": 73,
          "data": {
            "text/plain": "1"
          },
          "metadata": {}
        }
      ]
    },
    {
      "metadata": {
        "ExecuteTime": {
          "start_time": "2022-12-02T08:49:46.491516Z",
          "end_time": "2022-12-02T08:49:46.499548Z"
        },
        "trusted": true
      },
      "cell_type": "code",
      "source": "lst.count(True)",
      "execution_count": 74,
      "outputs": [
        {
          "output_type": "execute_result",
          "execution_count": 74,
          "data": {
            "text/plain": "1"
          },
          "metadata": {}
        }
      ]
    },
    {
      "metadata": {
        "ExecuteTime": {
          "start_time": "2022-12-02T08:51:13.738535Z",
          "end_time": "2022-12-02T08:51:13.746561Z"
        },
        "trusted": true
      },
      "cell_type": "code",
      "source": "#index\nlst.index(10.5)",
      "execution_count": 76,
      "outputs": [
        {
          "output_type": "execute_result",
          "execution_count": 76,
          "data": {
            "text/plain": "1"
          },
          "metadata": {}
        }
      ]
    },
    {
      "metadata": {
        "ExecuteTime": {
          "start_time": "2022-12-02T08:52:25.039566Z",
          "end_time": "2022-12-02T08:52:25.044591Z"
        },
        "trusted": true
      },
      "cell_type": "code",
      "source": "#insert\nlst.insert(0,50)",
      "execution_count": 78,
      "outputs": []
    },
    {
      "metadata": {
        "ExecuteTime": {
          "start_time": "2022-12-02T08:52:28.342162Z",
          "end_time": "2022-12-02T08:52:28.350181Z"
        },
        "trusted": true
      },
      "cell_type": "code",
      "source": "lst",
      "execution_count": 79,
      "outputs": [
        {
          "output_type": "execute_result",
          "execution_count": 79,
          "data": {
            "text/plain": "[50, 10, 10.5, True, 'Hello', 1000]"
          },
          "metadata": {}
        }
      ]
    },
    {
      "metadata": {
        "ExecuteTime": {
          "start_time": "2022-12-02T12:59:16.587865Z",
          "end_time": "2022-12-02T12:59:16.655786Z"
        },
        "trusted": true
      },
      "cell_type": "code",
      "source": "#pop\nlst.pop()\n",
      "execution_count": 83,
      "outputs": [
        {
          "output_type": "execute_result",
          "execution_count": 83,
          "data": {
            "text/plain": "1000"
          },
          "metadata": {}
        }
      ]
    },
    {
      "metadata": {
        "ExecuteTime": {
          "start_time": "2022-12-02T12:59:45.187193Z",
          "end_time": "2022-12-02T12:59:45.200724Z"
        },
        "trusted": true
      },
      "cell_type": "code",
      "source": "lst",
      "execution_count": 84,
      "outputs": [
        {
          "output_type": "execute_result",
          "execution_count": 84,
          "data": {
            "text/plain": "[50, 10, 10.5, True, 'Hello']"
          },
          "metadata": {}
        }
      ]
    },
    {
      "metadata": {
        "ExecuteTime": {
          "start_time": "2022-12-02T13:00:29.161140Z",
          "end_time": "2022-12-02T13:00:29.169146Z"
        },
        "trusted": true
      },
      "cell_type": "code",
      "source": "#Reverse\nlst.reverse()",
      "execution_count": 85,
      "outputs": []
    },
    {
      "metadata": {
        "ExecuteTime": {
          "start_time": "2022-12-02T13:00:32.204238Z",
          "end_time": "2022-12-02T13:00:32.220249Z"
        },
        "trusted": true
      },
      "cell_type": "code",
      "source": "lst",
      "execution_count": 86,
      "outputs": [
        {
          "output_type": "execute_result",
          "execution_count": 86,
          "data": {
            "text/plain": "['Hello', True, 10.5, 10, 50]"
          },
          "metadata": {}
        }
      ]
    },
    {
      "metadata": {
        "ExecuteTime": {
          "start_time": "2022-12-02T13:01:37.485146Z",
          "end_time": "2022-12-02T13:01:37.493510Z"
        },
        "trusted": true
      },
      "cell_type": "code",
      "source": "#Remove\nlst.remove(10.5)",
      "execution_count": 87,
      "outputs": []
    },
    {
      "metadata": {
        "ExecuteTime": {
          "start_time": "2022-12-02T13:01:40.574338Z",
          "end_time": "2022-12-02T13:01:40.590387Z"
        },
        "trusted": true
      },
      "cell_type": "code",
      "source": "lst",
      "execution_count": 88,
      "outputs": [
        {
          "output_type": "execute_result",
          "execution_count": 88,
          "data": {
            "text/plain": "['Hello', True, 10, 50]"
          },
          "metadata": {}
        }
      ]
    },
    {
      "metadata": {
        "ExecuteTime": {
          "start_time": "2022-12-02T13:02:55.389763Z",
          "end_time": "2022-12-02T13:02:55.397741Z"
        },
        "trusted": true
      },
      "cell_type": "code",
      "source": "#Replaceing Element in list\nlst[1]=False",
      "execution_count": 90,
      "outputs": []
    },
    {
      "metadata": {
        "ExecuteTime": {
          "start_time": "2022-12-02T13:02:59.396634Z",
          "end_time": "2022-12-02T13:02:59.412687Z"
        },
        "trusted": true
      },
      "cell_type": "code",
      "source": "lst",
      "execution_count": 91,
      "outputs": [
        {
          "output_type": "execute_result",
          "execution_count": 91,
          "data": {
            "text/plain": "['Hello', False, 10, 50]"
          },
          "metadata": {}
        }
      ]
    },
    {
      "metadata": {
        "ExecuteTime": {
          "start_time": "2022-12-02T13:03:46.591321Z",
          "end_time": "2022-12-02T13:03:46.599327Z"
        },
        "trusted": true
      },
      "cell_type": "code",
      "source": "lst[-1]=5000",
      "execution_count": 92,
      "outputs": []
    },
    {
      "metadata": {
        "ExecuteTime": {
          "start_time": "2022-12-02T13:03:49.908432Z",
          "end_time": "2022-12-02T13:03:49.919459Z"
        },
        "trusted": true
      },
      "cell_type": "code",
      "source": "lst",
      "execution_count": 93,
      "outputs": [
        {
          "output_type": "execute_result",
          "execution_count": 93,
          "data": {
            "text/plain": "['Hello', False, 10, 5000]"
          },
          "metadata": {}
        }
      ]
    },
    {
      "metadata": {},
      "cell_type": "markdown",
      "source": "# Tuple"
    },
    {
      "metadata": {
        "ExecuteTime": {
          "start_time": "2022-12-02T13:23:13.971904Z",
          "end_time": "2022-12-02T13:23:13.987950Z"
        },
        "trusted": true
      },
      "cell_type": "code",
      "source": "t =()",
      "execution_count": 94,
      "outputs": []
    },
    {
      "metadata": {
        "ExecuteTime": {
          "start_time": "2022-12-02T13:23:20.968832Z",
          "end_time": "2022-12-02T13:23:20.984873Z"
        },
        "trusted": true
      },
      "cell_type": "code",
      "source": "type(t)",
      "execution_count": 95,
      "outputs": [
        {
          "output_type": "execute_result",
          "execution_count": 95,
          "data": {
            "text/plain": "tuple"
          },
          "metadata": {}
        }
      ]
    },
    {
      "metadata": {
        "ExecuteTime": {
          "start_time": "2022-12-02T13:23:55.895631Z",
          "end_time": "2022-12-02T13:23:55.911611Z"
        },
        "trusted": true
      },
      "cell_type": "code",
      "source": "t=(10,1.2,'Hi',1000,15.2)",
      "execution_count": 96,
      "outputs": []
    },
    {
      "metadata": {
        "ExecuteTime": {
          "start_time": "2022-12-02T13:24:04.993547Z",
          "end_time": "2022-12-02T13:24:05.009550Z"
        },
        "trusted": true
      },
      "cell_type": "code",
      "source": "t",
      "execution_count": 97,
      "outputs": [
        {
          "output_type": "execute_result",
          "execution_count": 97,
          "data": {
            "text/plain": "(10, 1.2, 'Hi', 1000, 15.2)"
          },
          "metadata": {}
        }
      ]
    },
    {
      "metadata": {
        "ExecuteTime": {
          "start_time": "2022-12-02T13:24:18.091745Z",
          "end_time": "2022-12-02T13:24:18.104804Z"
        },
        "trusted": true
      },
      "cell_type": "code",
      "source": "t.count(1000)",
      "execution_count": 98,
      "outputs": [
        {
          "output_type": "execute_result",
          "execution_count": 98,
          "data": {
            "text/plain": "1"
          },
          "metadata": {}
        }
      ]
    },
    {
      "metadata": {
        "ExecuteTime": {
          "start_time": "2022-12-02T13:24:57.576429Z",
          "end_time": "2022-12-02T13:24:57.584834Z"
        },
        "trusted": true
      },
      "cell_type": "code",
      "source": "#Accessing element from tuple\nt[4]",
      "execution_count": 99,
      "outputs": [
        {
          "output_type": "execute_result",
          "execution_count": 99,
          "data": {
            "text/plain": "15.2"
          },
          "metadata": {}
        }
      ]
    },
    {
      "metadata": {
        "ExecuteTime": {
          "start_time": "2022-12-02T14:36:06.528256Z",
          "end_time": "2022-12-02T14:36:06.536780Z"
        },
        "trusted": true
      },
      "cell_type": "code",
      "source": "t[2:]",
      "execution_count": 135,
      "outputs": [
        {
          "output_type": "execute_result",
          "execution_count": 135,
          "data": {
            "text/plain": "('Hi', 1000, 15.2)"
          },
          "metadata": {}
        }
      ]
    },
    {
      "metadata": {
        "ExecuteTime": {
          "start_time": "2022-12-02T14:36:32.985838Z",
          "end_time": "2022-12-02T14:36:33.001894Z"
        },
        "trusted": true
      },
      "cell_type": "code",
      "source": "#Replace element\nt=(10,1.2,'Hi',1000,15.2)",
      "execution_count": 136,
      "outputs": []
    },
    {
      "metadata": {
        "ExecuteTime": {
          "start_time": "2022-12-02T14:37:00.579217Z",
          "end_time": "2022-12-02T14:37:00.587224Z"
        },
        "trusted": true
      },
      "cell_type": "code",
      "source": "t",
      "execution_count": 137,
      "outputs": [
        {
          "output_type": "execute_result",
          "execution_count": 137,
          "data": {
            "text/plain": "(10, 1.2, 'Hi', 1000, 15.2)"
          },
          "metadata": {}
        }
      ]
    },
    {
      "metadata": {
        "ExecuteTime": {
          "start_time": "2022-12-02T14:37:06.898711Z",
          "end_time": "2022-12-02T14:37:06.906715Z"
        },
        "trusted": true
      },
      "cell_type": "code",
      "source": "t =list",
      "execution_count": 138,
      "outputs": []
    },
    {
      "metadata": {
        "ExecuteTime": {
          "start_time": "2022-12-02T14:37:14.786518Z",
          "end_time": "2022-12-02T14:37:14.802503Z"
        },
        "trusted": true
      },
      "cell_type": "code",
      "source": "type(t)",
      "execution_count": 139,
      "outputs": [
        {
          "output_type": "execute_result",
          "execution_count": 139,
          "data": {
            "text/plain": "list"
          },
          "metadata": {}
        }
      ]
    },
    {
      "metadata": {
        "ExecuteTime": {
          "start_time": "2022-12-02T14:37:26.835346Z",
          "end_time": "2022-12-02T14:37:26.851358Z"
        },
        "trusted": true
      },
      "cell_type": "code",
      "source": "t[4]=200",
      "execution_count": 140,
      "outputs": [
        {
          "output_type": "error",
          "ename": "IndexError",
          "evalue": "list assignment index out of range",
          "traceback": [
            "\u001b[1;31m---------------------------------------------------------------------------\u001b[0m",
            "\u001b[1;31mIndexError\u001b[0m                                Traceback (most recent call last)",
            "\u001b[1;32m~\\AppData\\Local\\Temp\\ipykernel_7300\\3219227436.py\u001b[0m in \u001b[0;36m<module>\u001b[1;34m\u001b[0m\n\u001b[1;32m----> 1\u001b[1;33m \u001b[0mt\u001b[0m\u001b[1;33m[\u001b[0m\u001b[1;36m4\u001b[0m\u001b[1;33m]\u001b[0m\u001b[1;33m=\u001b[0m\u001b[1;36m200\u001b[0m\u001b[1;33m\u001b[0m\u001b[1;33m\u001b[0m\u001b[0m\n\u001b[0m",
            "\u001b[1;31mIndexError\u001b[0m: list assignment index out of range"
          ]
        }
      ]
    },
    {
      "metadata": {},
      "cell_type": "markdown",
      "source": "# Dictionary"
    },
    {
      "metadata": {
        "ExecuteTime": {
          "start_time": "2022-12-02T15:00:24.319712Z",
          "end_time": "2022-12-02T15:00:24.328747Z"
        },
        "trusted": true
      },
      "cell_type": "code",
      "source": "d ={}",
      "execution_count": 142,
      "outputs": []
    },
    {
      "metadata": {
        "ExecuteTime": {
          "start_time": "2022-12-02T15:00:49.372140Z",
          "end_time": "2022-12-02T15:00:49.381209Z"
        },
        "trusted": true
      },
      "cell_type": "code",
      "source": "type(d)",
      "execution_count": 144,
      "outputs": [
        {
          "output_type": "execute_result",
          "execution_count": 144,
          "data": {
            "text/plain": "dict"
          },
          "metadata": {}
        }
      ]
    },
    {
      "metadata": {
        "ExecuteTime": {
          "start_time": "2022-12-02T15:02:20.045643Z",
          "end_time": "2022-12-02T15:02:20.051159Z"
        },
        "trusted": true
      },
      "cell_type": "code",
      "source": "#Adding element in a dictionary\nd={1:10,2:'A,',3:True}",
      "execution_count": 145,
      "outputs": []
    },
    {
      "metadata": {
        "ExecuteTime": {
          "start_time": "2022-12-02T15:02:24.683443Z",
          "end_time": "2022-12-02T15:02:24.690460Z"
        },
        "trusted": true
      },
      "cell_type": "code",
      "source": "d",
      "execution_count": 146,
      "outputs": [
        {
          "output_type": "execute_result",
          "execution_count": 146,
          "data": {
            "text/plain": "{1: 10, 2: 'A,', 3: True}"
          },
          "metadata": {}
        }
      ]
    },
    {
      "metadata": {
        "ExecuteTime": {
          "start_time": "2022-12-02T15:02:47.615814Z",
          "end_time": "2022-12-02T15:02:47.623336Z"
        },
        "trusted": true
      },
      "cell_type": "code",
      "source": "#Get\nd.get(2)",
      "execution_count": 147,
      "outputs": [
        {
          "output_type": "execute_result",
          "execution_count": 147,
          "data": {
            "text/plain": "'A,'"
          },
          "metadata": {}
        }
      ]
    },
    {
      "metadata": {
        "ExecuteTime": {
          "start_time": "2022-12-02T15:03:05.855507Z",
          "end_time": "2022-12-02T15:03:05.864041Z"
        },
        "trusted": true
      },
      "cell_type": "code",
      "source": "d.get(3)",
      "execution_count": 148,
      "outputs": [
        {
          "output_type": "execute_result",
          "execution_count": 148,
          "data": {
            "text/plain": "True"
          },
          "metadata": {}
        }
      ]
    },
    {
      "metadata": {
        "ExecuteTime": {
          "start_time": "2022-12-02T15:31:17.232140Z",
          "end_time": "2022-12-02T15:31:17.247705Z"
        },
        "trusted": true
      },
      "cell_type": "code",
      "source": "#Items\nd.items()",
      "execution_count": 150,
      "outputs": [
        {
          "output_type": "execute_result",
          "execution_count": 150,
          "data": {
            "text/plain": "dict_items([(1, 10), (2, 'A,'), (3, True)])"
          },
          "metadata": {}
        }
      ]
    },
    {
      "metadata": {
        "ExecuteTime": {
          "start_time": "2022-12-02T15:31:52.755870Z",
          "end_time": "2022-12-02T15:31:52.763893Z"
        },
        "trusted": true
      },
      "cell_type": "code",
      "source": "#keys\nd.keys()",
      "execution_count": 151,
      "outputs": [
        {
          "output_type": "execute_result",
          "execution_count": 151,
          "data": {
            "text/plain": "dict_keys([1, 2, 3])"
          },
          "metadata": {}
        }
      ]
    },
    {
      "metadata": {
        "ExecuteTime": {
          "start_time": "2022-12-02T15:33:54.959043Z",
          "end_time": "2022-12-02T15:33:54.967071Z"
        },
        "trusted": true
      },
      "cell_type": "code",
      "source": "#Adding values in dictionary(update)\nd",
      "execution_count": 154,
      "outputs": [
        {
          "output_type": "execute_result",
          "execution_count": 154,
          "data": {
            "text/plain": "{1: 10, 2: 'A,', 3: True}"
          },
          "metadata": {}
        }
      ]
    },
    {
      "metadata": {
        "ExecuteTime": {
          "start_time": "2022-12-02T15:36:37.688780Z",
          "end_time": "2022-12-02T15:36:37.694297Z"
        },
        "trusted": true
      },
      "cell_type": "code",
      "source": "d.update({'cars':'bmw'})",
      "execution_count": 159,
      "outputs": []
    },
    {
      "metadata": {
        "ExecuteTime": {
          "start_time": "2022-12-02T15:36:41.678674Z",
          "end_time": "2022-12-02T15:36:41.687196Z"
        },
        "trusted": true
      },
      "cell_type": "code",
      "source": "d",
      "execution_count": 160,
      "outputs": [
        {
          "output_type": "execute_result",
          "execution_count": 160,
          "data": {
            "text/plain": "{1: 10, 2: 'A,', 3: True, 'cars': 'bmw'}"
          },
          "metadata": {}
        }
      ]
    },
    {
      "metadata": {
        "ExecuteTime": {
          "start_time": "2022-12-02T15:37:29.093692Z",
          "end_time": "2022-12-02T15:37:29.101723Z"
        },
        "trusted": true
      },
      "cell_type": "code",
      "source": "#pop\nd.pop(3)",
      "execution_count": 164,
      "outputs": [
        {
          "output_type": "execute_result",
          "execution_count": 164,
          "data": {
            "text/plain": "True"
          },
          "metadata": {}
        }
      ]
    },
    {
      "metadata": {
        "ExecuteTime": {
          "start_time": "2022-12-02T15:37:48.181426Z",
          "end_time": "2022-12-02T15:37:48.188957Z"
        },
        "trusted": true
      },
      "cell_type": "code",
      "source": "#value.\nd.values()",
      "execution_count": 165,
      "outputs": [
        {
          "output_type": "execute_result",
          "execution_count": 165,
          "data": {
            "text/plain": "dict_values([10, 'A,', 'bmw'])"
          },
          "metadata": {}
        }
      ]
    },
    {
      "metadata": {},
      "cell_type": "markdown",
      "source": "# Set"
    },
    {
      "metadata": {
        "ExecuteTime": {
          "start_time": "2022-12-02T17:44:20.426687Z",
          "end_time": "2022-12-02T17:44:20.440224Z"
        },
        "trusted": true
      },
      "cell_type": "code",
      "source": "s ={1,2,3,10.5,'A'}",
      "execution_count": 166,
      "outputs": []
    },
    {
      "metadata": {
        "ExecuteTime": {
          "start_time": "2022-12-02T17:44:34.346103Z",
          "end_time": "2022-12-02T17:44:34.356131Z"
        },
        "trusted": true
      },
      "cell_type": "code",
      "source": "type(s)",
      "execution_count": 167,
      "outputs": [
        {
          "output_type": "execute_result",
          "execution_count": 167,
          "data": {
            "text/plain": "set"
          },
          "metadata": {}
        }
      ]
    },
    {
      "metadata": {
        "ExecuteTime": {
          "start_time": "2022-12-02T17:44:42.231121Z",
          "end_time": "2022-12-02T17:44:42.238141Z"
        },
        "trusted": true
      },
      "cell_type": "code",
      "source": "s",
      "execution_count": 168,
      "outputs": [
        {
          "output_type": "execute_result",
          "execution_count": 168,
          "data": {
            "text/plain": "{1, 10.5, 2, 3, 'A'}"
          },
          "metadata": {}
        }
      ]
    },
    {
      "metadata": {
        "ExecuteTime": {
          "start_time": "2022-12-02T17:45:54.998971Z",
          "end_time": "2022-12-02T17:45:55.004492Z"
        },
        "trusted": true
      },
      "cell_type": "code",
      "source": "#Does not allow duplicate items\ns1={1,1,2,3,4,5}",
      "execution_count": 169,
      "outputs": []
    },
    {
      "metadata": {
        "ExecuteTime": {
          "start_time": "2022-12-02T17:45:59.959311Z",
          "end_time": "2022-12-02T17:45:59.966328Z"
        },
        "trusted": true
      },
      "cell_type": "code",
      "source": "s1",
      "execution_count": 170,
      "outputs": [
        {
          "output_type": "execute_result",
          "execution_count": 170,
          "data": {
            "text/plain": "{1, 2, 3, 4, 5}"
          },
          "metadata": {}
        }
      ]
    },
    {
      "metadata": {
        "ExecuteTime": {
          "start_time": "2022-12-02T17:46:34.471255Z",
          "end_time": "2022-12-02T17:46:34.478273Z"
        },
        "trusted": true
      },
      "cell_type": "code",
      "source": "#Does not support indexing\ns",
      "execution_count": 171,
      "outputs": [
        {
          "output_type": "execute_result",
          "execution_count": 171,
          "data": {
            "text/plain": "{1, 10.5, 2, 3, 'A'}"
          },
          "metadata": {}
        }
      ]
    },
    {
      "metadata": {
        "ExecuteTime": {
          "start_time": "2022-12-02T17:51:07.625042Z",
          "end_time": "2022-12-02T17:51:07.630061Z"
        },
        "trusted": true
      },
      "cell_type": "code",
      "source": "#Add\ns.add(100)",
      "execution_count": 174,
      "outputs": []
    },
    {
      "metadata": {
        "ExecuteTime": {
          "start_time": "2022-12-02T17:51:17.277180Z",
          "end_time": "2022-12-02T17:51:17.285205Z"
        },
        "trusted": true
      },
      "cell_type": "code",
      "source": "s",
      "execution_count": 175,
      "outputs": [
        {
          "output_type": "execute_result",
          "execution_count": 175,
          "data": {
            "text/plain": "{1, 10.5, 100, 2, 3, 'A'}"
          },
          "metadata": {}
        }
      ]
    },
    {
      "metadata": {
        "ExecuteTime": {
          "start_time": "2022-12-02T17:53:10.408421Z",
          "end_time": "2022-12-02T17:53:10.413435Z"
        },
        "trusted": true
      },
      "cell_type": "code",
      "source": "a= {'apple','mango','cherry'}\nb={'microsoft','google','cherry'}",
      "execution_count": 176,
      "outputs": []
    },
    {
      "metadata": {
        "ExecuteTime": {
          "start_time": "2022-12-02T17:53:35.430931Z",
          "end_time": "2022-12-02T17:53:35.438985Z"
        },
        "trusted": true
      },
      "cell_type": "code",
      "source": "a.difference(b)",
      "execution_count": 177,
      "outputs": [
        {
          "output_type": "execute_result",
          "execution_count": 177,
          "data": {
            "text/plain": "{'apple', 'mango'}"
          },
          "metadata": {}
        }
      ]
    },
    {
      "metadata": {
        "ExecuteTime": {
          "start_time": "2022-12-02T17:53:48.984877Z",
          "end_time": "2022-12-02T17:53:48.992898Z"
        },
        "trusted": true
      },
      "cell_type": "code",
      "source": "b.difference(a)",
      "execution_count": 178,
      "outputs": [
        {
          "output_type": "execute_result",
          "execution_count": 178,
          "data": {
            "text/plain": "{'google', 'microsoft'}"
          },
          "metadata": {}
        }
      ]
    },
    {
      "metadata": {
        "ExecuteTime": {
          "start_time": "2022-12-02T17:54:30.210757Z",
          "end_time": "2022-12-02T17:54:30.219782Z"
        },
        "trusted": true
      },
      "cell_type": "code",
      "source": "a.intersection(b)",
      "execution_count": 181,
      "outputs": [
        {
          "output_type": "execute_result",
          "execution_count": 181,
          "data": {
            "text/plain": "{'cherry'}"
          },
          "metadata": {}
        }
      ]
    },
    {
      "metadata": {
        "ExecuteTime": {
          "start_time": "2022-12-02T17:54:44.707678Z",
          "end_time": "2022-12-02T17:54:44.716701Z"
        },
        "trusted": true
      },
      "cell_type": "code",
      "source": "b.intersection(a)",
      "execution_count": 182,
      "outputs": [
        {
          "output_type": "execute_result",
          "execution_count": 182,
          "data": {
            "text/plain": "{'cherry'}"
          },
          "metadata": {}
        }
      ]
    },
    {
      "metadata": {
        "ExecuteTime": {
          "start_time": "2022-12-02T17:55:14.306946Z",
          "end_time": "2022-12-02T17:55:14.315970Z"
        },
        "trusted": true
      },
      "cell_type": "code",
      "source": "#union\na.union(b)",
      "execution_count": 183,
      "outputs": [
        {
          "output_type": "execute_result",
          "execution_count": 183,
          "data": {
            "text/plain": "{'apple', 'cherry', 'google', 'mango', 'microsoft'}"
          },
          "metadata": {}
        }
      ]
    },
    {
      "metadata": {
        "ExecuteTime": {
          "start_time": "2022-12-02T18:09:40.524473Z",
          "end_time": "2022-12-02T18:09:40.532496Z"
        },
        "trusted": true
      },
      "cell_type": "code",
      "source": "#pop\na.pop()",
      "execution_count": 184,
      "outputs": [
        {
          "output_type": "execute_result",
          "execution_count": 184,
          "data": {
            "text/plain": "'mango'"
          },
          "metadata": {}
        }
      ]
    },
    {
      "metadata": {
        "trusted": true
      },
      "cell_type": "code",
      "source": "",
      "execution_count": null,
      "outputs": []
    },
    {
      "metadata": {
        "trusted": true
      },
      "cell_type": "code",
      "source": "",
      "execution_count": null,
      "outputs": []
    }
  ],
  "metadata": {
    "_draft": {
      "nbviewer_url": "https://gist.github.com/bf53a74329b03233f3084f19f34bb5b5"
    },
    "gist": {
      "id": "bf53a74329b03233f3084f19f34bb5b5",
      "data": {
        "description": "Basic Python.ipynb",
        "public": true
      }
    },
    "kernelspec": {
      "name": "python3",
      "display_name": "Python 3 (ipykernel)",
      "language": "python"
    },
    "language_info": {
      "name": "python",
      "version": "3.9.13",
      "mimetype": "text/x-python",
      "codemirror_mode": {
        "name": "ipython",
        "version": 3
      },
      "pygments_lexer": "ipython3",
      "nbconvert_exporter": "python",
      "file_extension": ".py"
    }
  },
  "nbformat": 4,
  "nbformat_minor": 5
}